{
  "nbformat": 4,
  "nbformat_minor": 0,
  "metadata": {
    "colab": {
      "provenance": [],
      "collapsed_sections": [],
      "authorship_tag": "ABX9TyN4xHHJJjmfSC79Rz1gCUlj",
      "include_colab_link": true
    },
    "kernelspec": {
      "name": "python3",
      "display_name": "Python 3"
    },
    "language_info": {
      "name": "python"
    },
    "widgets": {
      "application/vnd.jupyter.widget-state+json": {
        "9d22c3f6d9b94c4cb607fb25fc0ba67a": {
          "model_module": "@jupyter-widgets/controls",
          "model_name": "HBoxModel",
          "model_module_version": "1.5.0",
          "state": {
            "_dom_classes": [],
            "_model_module": "@jupyter-widgets/controls",
            "_model_module_version": "1.5.0",
            "_model_name": "HBoxModel",
            "_view_count": null,
            "_view_module": "@jupyter-widgets/controls",
            "_view_module_version": "1.5.0",
            "_view_name": "HBoxView",
            "box_style": "",
            "children": [
              "IPY_MODEL_4bf5f30af76641a9af74de5e21dc1a3b",
              "IPY_MODEL_60c37240f954407da5c7f640abfc7022",
              "IPY_MODEL_9a24e72b65334c14b1274f4f3137d6f4"
            ],
            "layout": "IPY_MODEL_f72161f811ef4507ba4fd8699e57d9b6"
          }
        },
        "4bf5f30af76641a9af74de5e21dc1a3b": {
          "model_module": "@jupyter-widgets/controls",
          "model_name": "HTMLModel",
          "model_module_version": "1.5.0",
          "state": {
            "_dom_classes": [],
            "_model_module": "@jupyter-widgets/controls",
            "_model_module_version": "1.5.0",
            "_model_name": "HTMLModel",
            "_view_count": null,
            "_view_module": "@jupyter-widgets/controls",
            "_view_module_version": "1.5.0",
            "_view_name": "HTMLView",
            "description": "",
            "description_tooltip": null,
            "layout": "IPY_MODEL_e57fb2068cff4f6cae930be586c42e98",
            "placeholder": "​",
            "style": "IPY_MODEL_30c3f7b0b97d419d877f77150df49972",
            "value": "100%"
          }
        },
        "60c37240f954407da5c7f640abfc7022": {
          "model_module": "@jupyter-widgets/controls",
          "model_name": "FloatProgressModel",
          "model_module_version": "1.5.0",
          "state": {
            "_dom_classes": [],
            "_model_module": "@jupyter-widgets/controls",
            "_model_module_version": "1.5.0",
            "_model_name": "FloatProgressModel",
            "_view_count": null,
            "_view_module": "@jupyter-widgets/controls",
            "_view_module_version": "1.5.0",
            "_view_name": "ProgressView",
            "bar_style": "success",
            "description": "",
            "description_tooltip": null,
            "layout": "IPY_MODEL_08061d956daa480a9d1e7bed4671724a",
            "max": 5000,
            "min": 0,
            "orientation": "horizontal",
            "style": "IPY_MODEL_00acf789ddd7480a8be175f6edda2474",
            "value": 5000
          }
        },
        "9a24e72b65334c14b1274f4f3137d6f4": {
          "model_module": "@jupyter-widgets/controls",
          "model_name": "HTMLModel",
          "model_module_version": "1.5.0",
          "state": {
            "_dom_classes": [],
            "_model_module": "@jupyter-widgets/controls",
            "_model_module_version": "1.5.0",
            "_model_name": "HTMLModel",
            "_view_count": null,
            "_view_module": "@jupyter-widgets/controls",
            "_view_module_version": "1.5.0",
            "_view_name": "HTMLView",
            "description": "",
            "description_tooltip": null,
            "layout": "IPY_MODEL_2c1eb9337d4842ab9037ed7957e46297",
            "placeholder": "​",
            "style": "IPY_MODEL_41114a2b831d4f69b7b908c50268cede",
            "value": " 5000/5000 [13:38&lt;00:00,  6.26it/s]"
          }
        },
        "f72161f811ef4507ba4fd8699e57d9b6": {
          "model_module": "@jupyter-widgets/base",
          "model_name": "LayoutModel",
          "model_module_version": "1.2.0",
          "state": {
            "_model_module": "@jupyter-widgets/base",
            "_model_module_version": "1.2.0",
            "_model_name": "LayoutModel",
            "_view_count": null,
            "_view_module": "@jupyter-widgets/base",
            "_view_module_version": "1.2.0",
            "_view_name": "LayoutView",
            "align_content": null,
            "align_items": null,
            "align_self": null,
            "border": null,
            "bottom": null,
            "display": null,
            "flex": null,
            "flex_flow": null,
            "grid_area": null,
            "grid_auto_columns": null,
            "grid_auto_flow": null,
            "grid_auto_rows": null,
            "grid_column": null,
            "grid_gap": null,
            "grid_row": null,
            "grid_template_areas": null,
            "grid_template_columns": null,
            "grid_template_rows": null,
            "height": null,
            "justify_content": null,
            "justify_items": null,
            "left": null,
            "margin": null,
            "max_height": null,
            "max_width": null,
            "min_height": null,
            "min_width": null,
            "object_fit": null,
            "object_position": null,
            "order": null,
            "overflow": null,
            "overflow_x": null,
            "overflow_y": null,
            "padding": null,
            "right": null,
            "top": null,
            "visibility": null,
            "width": null
          }
        },
        "e57fb2068cff4f6cae930be586c42e98": {
          "model_module": "@jupyter-widgets/base",
          "model_name": "LayoutModel",
          "model_module_version": "1.2.0",
          "state": {
            "_model_module": "@jupyter-widgets/base",
            "_model_module_version": "1.2.0",
            "_model_name": "LayoutModel",
            "_view_count": null,
            "_view_module": "@jupyter-widgets/base",
            "_view_module_version": "1.2.0",
            "_view_name": "LayoutView",
            "align_content": null,
            "align_items": null,
            "align_self": null,
            "border": null,
            "bottom": null,
            "display": null,
            "flex": null,
            "flex_flow": null,
            "grid_area": null,
            "grid_auto_columns": null,
            "grid_auto_flow": null,
            "grid_auto_rows": null,
            "grid_column": null,
            "grid_gap": null,
            "grid_row": null,
            "grid_template_areas": null,
            "grid_template_columns": null,
            "grid_template_rows": null,
            "height": null,
            "justify_content": null,
            "justify_items": null,
            "left": null,
            "margin": null,
            "max_height": null,
            "max_width": null,
            "min_height": null,
            "min_width": null,
            "object_fit": null,
            "object_position": null,
            "order": null,
            "overflow": null,
            "overflow_x": null,
            "overflow_y": null,
            "padding": null,
            "right": null,
            "top": null,
            "visibility": null,
            "width": null
          }
        },
        "30c3f7b0b97d419d877f77150df49972": {
          "model_module": "@jupyter-widgets/controls",
          "model_name": "DescriptionStyleModel",
          "model_module_version": "1.5.0",
          "state": {
            "_model_module": "@jupyter-widgets/controls",
            "_model_module_version": "1.5.0",
            "_model_name": "DescriptionStyleModel",
            "_view_count": null,
            "_view_module": "@jupyter-widgets/base",
            "_view_module_version": "1.2.0",
            "_view_name": "StyleView",
            "description_width": ""
          }
        },
        "08061d956daa480a9d1e7bed4671724a": {
          "model_module": "@jupyter-widgets/base",
          "model_name": "LayoutModel",
          "model_module_version": "1.2.0",
          "state": {
            "_model_module": "@jupyter-widgets/base",
            "_model_module_version": "1.2.0",
            "_model_name": "LayoutModel",
            "_view_count": null,
            "_view_module": "@jupyter-widgets/base",
            "_view_module_version": "1.2.0",
            "_view_name": "LayoutView",
            "align_content": null,
            "align_items": null,
            "align_self": null,
            "border": null,
            "bottom": null,
            "display": null,
            "flex": null,
            "flex_flow": null,
            "grid_area": null,
            "grid_auto_columns": null,
            "grid_auto_flow": null,
            "grid_auto_rows": null,
            "grid_column": null,
            "grid_gap": null,
            "grid_row": null,
            "grid_template_areas": null,
            "grid_template_columns": null,
            "grid_template_rows": null,
            "height": null,
            "justify_content": null,
            "justify_items": null,
            "left": null,
            "margin": null,
            "max_height": null,
            "max_width": null,
            "min_height": null,
            "min_width": null,
            "object_fit": null,
            "object_position": null,
            "order": null,
            "overflow": null,
            "overflow_x": null,
            "overflow_y": null,
            "padding": null,
            "right": null,
            "top": null,
            "visibility": null,
            "width": null
          }
        },
        "00acf789ddd7480a8be175f6edda2474": {
          "model_module": "@jupyter-widgets/controls",
          "model_name": "ProgressStyleModel",
          "model_module_version": "1.5.0",
          "state": {
            "_model_module": "@jupyter-widgets/controls",
            "_model_module_version": "1.5.0",
            "_model_name": "ProgressStyleModel",
            "_view_count": null,
            "_view_module": "@jupyter-widgets/base",
            "_view_module_version": "1.2.0",
            "_view_name": "StyleView",
            "bar_color": null,
            "description_width": ""
          }
        },
        "2c1eb9337d4842ab9037ed7957e46297": {
          "model_module": "@jupyter-widgets/base",
          "model_name": "LayoutModel",
          "model_module_version": "1.2.0",
          "state": {
            "_model_module": "@jupyter-widgets/base",
            "_model_module_version": "1.2.0",
            "_model_name": "LayoutModel",
            "_view_count": null,
            "_view_module": "@jupyter-widgets/base",
            "_view_module_version": "1.2.0",
            "_view_name": "LayoutView",
            "align_content": null,
            "align_items": null,
            "align_self": null,
            "border": null,
            "bottom": null,
            "display": null,
            "flex": null,
            "flex_flow": null,
            "grid_area": null,
            "grid_auto_columns": null,
            "grid_auto_flow": null,
            "grid_auto_rows": null,
            "grid_column": null,
            "grid_gap": null,
            "grid_row": null,
            "grid_template_areas": null,
            "grid_template_columns": null,
            "grid_template_rows": null,
            "height": null,
            "justify_content": null,
            "justify_items": null,
            "left": null,
            "margin": null,
            "max_height": null,
            "max_width": null,
            "min_height": null,
            "min_width": null,
            "object_fit": null,
            "object_position": null,
            "order": null,
            "overflow": null,
            "overflow_x": null,
            "overflow_y": null,
            "padding": null,
            "right": null,
            "top": null,
            "visibility": null,
            "width": null
          }
        },
        "41114a2b831d4f69b7b908c50268cede": {
          "model_module": "@jupyter-widgets/controls",
          "model_name": "DescriptionStyleModel",
          "model_module_version": "1.5.0",
          "state": {
            "_model_module": "@jupyter-widgets/controls",
            "_model_module_version": "1.5.0",
            "_model_name": "DescriptionStyleModel",
            "_view_count": null,
            "_view_module": "@jupyter-widgets/base",
            "_view_module_version": "1.2.0",
            "_view_name": "StyleView",
            "description_width": ""
          }
        }
      }
    }
  },
  "cells": [
    {
      "cell_type": "markdown",
      "metadata": {
        "id": "view-in-github",
        "colab_type": "text"
      },
      "source": [
        "<a href=\"https://colab.research.google.com/github/reneSalmon/ElasticSearch_Recommendation_System/blob/main/SemanticSearch_combined_with_ElasticSearch.ipynb\" target=\"_parent\"><img src=\"https://colab.research.google.com/assets/colab-badge.svg\" alt=\"Open In Colab\"/></a>"
      ]
    },
    {
      "cell_type": "markdown",
      "source": [
        "#Setup"
      ],
      "metadata": {
        "id": "NPvSvUuvhyHs"
      }
    },
    {
      "cell_type": "markdown",
      "source": [
        "## Import modules and packages"
      ],
      "metadata": {
        "id": "mSosa_UGi25F"
      }
    },
    {
      "cell_type": "code",
      "execution_count": 8,
      "metadata": {
        "colab": {
          "base_uri": "https://localhost:8080/"
        },
        "id": "eTX4mxZihXpP",
        "outputId": "1706e573-2345-4f48-acb5-54603ab0ce56"
      },
      "outputs": [
        {
          "output_type": "stream",
          "name": "stdout",
          "text": [
            "Looking in indexes: https://pypi.org/simple, https://us-python.pkg.dev/colab-wheels/public/simple/\n",
            "Requirement already satisfied: sentence-transformers in /usr/local/lib/python3.7/dist-packages (2.2.2)\n",
            "Requirement already satisfied: scikit-learn in /usr/local/lib/python3.7/dist-packages (from sentence-transformers) (1.0.2)\n",
            "Requirement already satisfied: transformers<5.0.0,>=4.6.0 in /usr/local/lib/python3.7/dist-packages (from sentence-transformers) (4.22.0)\n",
            "Requirement already satisfied: sentencepiece in /usr/local/lib/python3.7/dist-packages (from sentence-transformers) (0.1.97)\n",
            "Requirement already satisfied: numpy in /usr/local/lib/python3.7/dist-packages (from sentence-transformers) (1.21.6)\n",
            "Requirement already satisfied: nltk in /usr/local/lib/python3.7/dist-packages (from sentence-transformers) (3.7)\n",
            "Requirement already satisfied: scipy in /usr/local/lib/python3.7/dist-packages (from sentence-transformers) (1.7.3)\n",
            "Requirement already satisfied: torchvision in /usr/local/lib/python3.7/dist-packages (from sentence-transformers) (0.13.1+cu113)\n",
            "Requirement already satisfied: torch>=1.6.0 in /usr/local/lib/python3.7/dist-packages (from sentence-transformers) (1.12.1+cu113)\n",
            "Requirement already satisfied: huggingface-hub>=0.4.0 in /usr/local/lib/python3.7/dist-packages (from sentence-transformers) (0.9.1)\n",
            "Requirement already satisfied: tqdm in /usr/local/lib/python3.7/dist-packages (from sentence-transformers) (4.64.1)\n",
            "Requirement already satisfied: filelock in /usr/local/lib/python3.7/dist-packages (from huggingface-hub>=0.4.0->sentence-transformers) (3.8.0)\n",
            "Requirement already satisfied: pyyaml>=5.1 in /usr/local/lib/python3.7/dist-packages (from huggingface-hub>=0.4.0->sentence-transformers) (6.0)\n",
            "Requirement already satisfied: importlib-metadata in /usr/local/lib/python3.7/dist-packages (from huggingface-hub>=0.4.0->sentence-transformers) (4.12.0)\n",
            "Requirement already satisfied: requests in /usr/local/lib/python3.7/dist-packages (from huggingface-hub>=0.4.0->sentence-transformers) (2.23.0)\n",
            "Requirement already satisfied: packaging>=20.9 in /usr/local/lib/python3.7/dist-packages (from huggingface-hub>=0.4.0->sentence-transformers) (21.3)\n",
            "Requirement already satisfied: typing-extensions>=3.7.4.3 in /usr/local/lib/python3.7/dist-packages (from huggingface-hub>=0.4.0->sentence-transformers) (4.1.1)\n",
            "Requirement already satisfied: pyparsing!=3.0.5,>=2.0.2 in /usr/local/lib/python3.7/dist-packages (from packaging>=20.9->huggingface-hub>=0.4.0->sentence-transformers) (3.0.9)\n",
            "Requirement already satisfied: tokenizers!=0.11.3,<0.13,>=0.11.1 in /usr/local/lib/python3.7/dist-packages (from transformers<5.0.0,>=4.6.0->sentence-transformers) (0.12.1)\n",
            "Requirement already satisfied: regex!=2019.12.17 in /usr/local/lib/python3.7/dist-packages (from transformers<5.0.0,>=4.6.0->sentence-transformers) (2022.6.2)\n",
            "Requirement already satisfied: zipp>=0.5 in /usr/local/lib/python3.7/dist-packages (from importlib-metadata->huggingface-hub>=0.4.0->sentence-transformers) (3.8.1)\n",
            "Requirement already satisfied: click in /usr/local/lib/python3.7/dist-packages (from nltk->sentence-transformers) (7.1.2)\n",
            "Requirement already satisfied: joblib in /usr/local/lib/python3.7/dist-packages (from nltk->sentence-transformers) (1.1.0)\n",
            "Requirement already satisfied: certifi>=2017.4.17 in /usr/local/lib/python3.7/dist-packages (from requests->huggingface-hub>=0.4.0->sentence-transformers) (2022.6.15)\n",
            "Requirement already satisfied: chardet<4,>=3.0.2 in /usr/local/lib/python3.7/dist-packages (from requests->huggingface-hub>=0.4.0->sentence-transformers) (3.0.4)\n",
            "Requirement already satisfied: urllib3!=1.25.0,!=1.25.1,<1.26,>=1.21.1 in /usr/local/lib/python3.7/dist-packages (from requests->huggingface-hub>=0.4.0->sentence-transformers) (1.25.11)\n",
            "Requirement already satisfied: idna<3,>=2.5 in /usr/local/lib/python3.7/dist-packages (from requests->huggingface-hub>=0.4.0->sentence-transformers) (2.10)\n",
            "Requirement already satisfied: threadpoolctl>=2.0.0 in /usr/local/lib/python3.7/dist-packages (from scikit-learn->sentence-transformers) (3.1.0)\n",
            "Requirement already satisfied: pillow!=8.3.*,>=5.3.0 in /usr/local/lib/python3.7/dist-packages (from torchvision->sentence-transformers) (7.1.2)\n"
          ]
        }
      ],
      "source": [
        "!pip install -U sentence-transformers"
      ]
    },
    {
      "cell_type": "code",
      "source": [
        "! pip install transformers"
      ],
      "metadata": {
        "colab": {
          "base_uri": "https://localhost:8080/"
        },
        "id": "hRr8WrAGhohl",
        "outputId": "0142786a-6029-4873-fbd8-fe9c1d005d6d"
      },
      "execution_count": 9,
      "outputs": [
        {
          "output_type": "stream",
          "name": "stdout",
          "text": [
            "Looking in indexes: https://pypi.org/simple, https://us-python.pkg.dev/colab-wheels/public/simple/\n",
            "Requirement already satisfied: transformers in /usr/local/lib/python3.7/dist-packages (4.22.0)\n",
            "Requirement already satisfied: packaging>=20.0 in /usr/local/lib/python3.7/dist-packages (from transformers) (21.3)\n",
            "Requirement already satisfied: pyyaml>=5.1 in /usr/local/lib/python3.7/dist-packages (from transformers) (6.0)\n",
            "Requirement already satisfied: huggingface-hub<1.0,>=0.9.0 in /usr/local/lib/python3.7/dist-packages (from transformers) (0.9.1)\n",
            "Requirement already satisfied: regex!=2019.12.17 in /usr/local/lib/python3.7/dist-packages (from transformers) (2022.6.2)\n",
            "Requirement already satisfied: tqdm>=4.27 in /usr/local/lib/python3.7/dist-packages (from transformers) (4.64.1)\n",
            "Requirement already satisfied: tokenizers!=0.11.3,<0.13,>=0.11.1 in /usr/local/lib/python3.7/dist-packages (from transformers) (0.12.1)\n",
            "Requirement already satisfied: numpy>=1.17 in /usr/local/lib/python3.7/dist-packages (from transformers) (1.21.6)\n",
            "Requirement already satisfied: requests in /usr/local/lib/python3.7/dist-packages (from transformers) (2.23.0)\n",
            "Requirement already satisfied: filelock in /usr/local/lib/python3.7/dist-packages (from transformers) (3.8.0)\n",
            "Requirement already satisfied: importlib-metadata in /usr/local/lib/python3.7/dist-packages (from transformers) (4.12.0)\n",
            "Requirement already satisfied: typing-extensions>=3.7.4.3 in /usr/local/lib/python3.7/dist-packages (from huggingface-hub<1.0,>=0.9.0->transformers) (4.1.1)\n",
            "Requirement already satisfied: pyparsing!=3.0.5,>=2.0.2 in /usr/local/lib/python3.7/dist-packages (from packaging>=20.0->transformers) (3.0.9)\n",
            "Requirement already satisfied: zipp>=0.5 in /usr/local/lib/python3.7/dist-packages (from importlib-metadata->transformers) (3.8.1)\n",
            "Requirement already satisfied: idna<3,>=2.5 in /usr/local/lib/python3.7/dist-packages (from requests->transformers) (2.10)\n",
            "Requirement already satisfied: urllib3!=1.25.0,!=1.25.1,<1.26,>=1.21.1 in /usr/local/lib/python3.7/dist-packages (from requests->transformers) (1.25.11)\n",
            "Requirement already satisfied: certifi>=2017.4.17 in /usr/local/lib/python3.7/dist-packages (from requests->transformers) (2022.6.15)\n",
            "Requirement already satisfied: chardet<4,>=3.0.2 in /usr/local/lib/python3.7/dist-packages (from requests->transformers) (3.0.4)\n"
          ]
        }
      ]
    },
    {
      "cell_type": "code",
      "source": [
        "!wget https://artifacts.elastic.co/downloads/elasticsearch/elasticsearch-7.0.0-linux-x86_64.tar.gz -q\n",
        "!tar -xzf elasticsearch-7.0.0-linux-x86_64.tar.gz\n",
        "!chown -R daemon:daemon elasticsearch-7.0.0"
      ],
      "metadata": {
        "id": "6jg5fchUkNwz"
      },
      "execution_count": 6,
      "outputs": []
    },
    {
      "cell_type": "code",
      "source": [
        "pip install opendatasets"
      ],
      "metadata": {
        "colab": {
          "base_uri": "https://localhost:8080/"
        },
        "id": "ek33CzlDlb-6",
        "outputId": "8d4c4e53-b41a-41bb-c4e7-2d4e7c500a9f"
      },
      "execution_count": 7,
      "outputs": [
        {
          "output_type": "stream",
          "name": "stdout",
          "text": [
            "Looking in indexes: https://pypi.org/simple, https://us-python.pkg.dev/colab-wheels/public/simple/\n",
            "Requirement already satisfied: opendatasets in /usr/local/lib/python3.7/dist-packages (0.1.22)\n",
            "Requirement already satisfied: click in /usr/local/lib/python3.7/dist-packages (from opendatasets) (7.1.2)\n",
            "Requirement already satisfied: kaggle in /usr/local/lib/python3.7/dist-packages (from opendatasets) (1.5.12)\n",
            "Requirement already satisfied: tqdm in /usr/local/lib/python3.7/dist-packages (from opendatasets) (4.64.1)\n",
            "Requirement already satisfied: requests in /usr/local/lib/python3.7/dist-packages (from kaggle->opendatasets) (2.23.0)\n",
            "Requirement already satisfied: python-dateutil in /usr/local/lib/python3.7/dist-packages (from kaggle->opendatasets) (2.8.2)\n",
            "Requirement already satisfied: urllib3 in /usr/local/lib/python3.7/dist-packages (from kaggle->opendatasets) (1.25.11)\n",
            "Requirement already satisfied: certifi in /usr/local/lib/python3.7/dist-packages (from kaggle->opendatasets) (2022.6.15)\n",
            "Requirement already satisfied: python-slugify in /usr/local/lib/python3.7/dist-packages (from kaggle->opendatasets) (6.1.2)\n",
            "Requirement already satisfied: six>=1.10 in /usr/local/lib/python3.7/dist-packages (from kaggle->opendatasets) (1.15.0)\n",
            "Requirement already satisfied: text-unidecode>=1.3 in /usr/local/lib/python3.7/dist-packages (from python-slugify->kaggle->opendatasets) (1.3)\n",
            "Requirement already satisfied: idna<3,>=2.5 in /usr/local/lib/python3.7/dist-packages (from requests->kaggle->opendatasets) (2.10)\n",
            "Requirement already satisfied: chardet<4,>=3.0.2 in /usr/local/lib/python3.7/dist-packages (from requests->kaggle->opendatasets) (3.0.4)\n"
          ]
        }
      ]
    },
    {
      "cell_type": "markdown",
      "source": [
        "##Import libraries"
      ],
      "metadata": {
        "id": "FkkevQR6i_T4"
      }
    },
    {
      "cell_type": "code",
      "source": [
        "import pandas as pd\n",
        "import numpy as np\n",
        "import json\n",
        "import os\n",
        "import uuid\n",
        "\n",
        "\n",
        "from sentence_transformers import SentenceTransformer, util\n",
        "model = SentenceTransformer('all-MiniLM-L6-v2')\n",
        "\n",
        "import elasticsearch\n",
        "from elasticsearch import Elasticsearch\n",
        "from elasticsearch import helpers\n",
        "\n",
        "from tqdm.auto import tqdm\n",
        "tqdm.pandas()\n",
        "\n",
        "import opendatasets as od"
      ],
      "metadata": {
        "id": "-5JAScTvjwy-"
      },
      "execution_count": 13,
      "outputs": []
    },
    {
      "cell_type": "markdown",
      "source": [
        "## Import data"
      ],
      "metadata": {
        "id": "yQp_QLyEiDKU"
      }
    },
    {
      "cell_type": "code",
      "source": [
        "od.download(\n",
        "    \"https://www.kaggle.com/datasets/madhab/jobposts\")"
      ],
      "metadata": {
        "colab": {
          "base_uri": "https://localhost:8080/"
        },
        "id": "jL2Rq7gihw3F",
        "outputId": "b238cb6e-9b32-4d92-aeca-5696e2710d49"
      },
      "execution_count": 18,
      "outputs": [
        {
          "output_type": "stream",
          "name": "stdout",
          "text": [
            "Please provide your Kaggle credentials to download this dataset. Learn more: http://bit.ly/kaggle-creds\n",
            "Your Kaggle username: renesalmon\n",
            "Your Kaggle Key: ··········\n",
            "Downloading jobposts.zip to ./jobposts\n"
          ]
        },
        {
          "output_type": "stream",
          "name": "stderr",
          "text": [
            "100%|██████████| 14.0M/14.0M [00:00<00:00, 110MB/s] "
          ]
        },
        {
          "output_type": "stream",
          "name": "stdout",
          "text": [
            "\n"
          ]
        },
        {
          "output_type": "stream",
          "name": "stderr",
          "text": [
            "\n"
          ]
        }
      ]
    },
    {
      "cell_type": "code",
      "source": [
        "df  = pd.read_csv(\"/content/jobposts/data job posts.csv\")\n",
        "df"
      ],
      "metadata": {
        "colab": {
          "base_uri": "https://localhost:8080/",
          "height": 1000
        },
        "id": "eFIqkc9flG7t",
        "outputId": "c55b95a5-df34-4c24-cb0f-ef5557fe2470"
      },
      "execution_count": 21,
      "outputs": [
        {
          "output_type": "execute_result",
          "data": {
            "text/plain": [
              "                                                 jobpost          date  \\\n",
              "0      AMERIA Investment Consulting Company\\r\\nJOB TI...   Jan 5, 2004   \n",
              "1      International Research & Exchanges Board (IREX...   Jan 7, 2004   \n",
              "2      Caucasus Environmental NGO Network (CENN)\\r\\nJ...   Jan 7, 2004   \n",
              "3      Manoff Group\\r\\nJOB TITLE:  BCC Specialist\\r\\n...   Jan 7, 2004   \n",
              "4      Yerevan Brandy Company\\r\\nJOB TITLE:  Software...  Jan 10, 2004   \n",
              "...                                                  ...           ...   \n",
              "18996  Technolinguistics NGO\\r\\n\\r\\n\\r\\nTITLE:  Senio...  Dec 28, 2015   \n",
              "18997  \"Coca-Cola Hellenic Bottling Company Armenia\" ...  Dec 30, 2015   \n",
              "18998  \"Coca-Cola Hellenic Bottling Company Armenia\" ...  Dec 30, 2015   \n",
              "18999  San Lazzaro   LLC\\r\\n\\r\\n\\r\\nTITLE:  Head of O...  Dec 30, 2015   \n",
              "19000  \"Kamurj\" UCO CJSC\\r\\n\\r\\n\\r\\nTITLE:  Lawyer in...  Dec 30, 2015   \n",
              "\n",
              "                                                   Title  \\\n",
              "0                                Chief Financial Officer   \n",
              "1      Full-time Community Connections Intern (paid i...   \n",
              "2                                    Country Coordinator   \n",
              "3                                         BCC Specialist   \n",
              "4                                     Software Developer   \n",
              "...                                                  ...   \n",
              "18996                    Senior Creative UX/ UI Designer   \n",
              "18997                       Category Development Manager   \n",
              "18998                      Operational Marketing Manager   \n",
              "18999                    Head of Online Sales Department   \n",
              "19000                         Lawyer in Legal Department   \n",
              "\n",
              "                                                 Company AnnouncementCode  \\\n",
              "0                   AMERIA Investment Consulting Company              NaN   \n",
              "1        International Research & Exchanges Board (IREX)              NaN   \n",
              "2              Caucasus Environmental NGO Network (CENN)              NaN   \n",
              "3                                           Manoff Group              NaN   \n",
              "4                                 Yerevan Brandy Company              NaN   \n",
              "...                                                  ...              ...   \n",
              "18996                              Technolinguistics NGO              NaN   \n",
              "18997  \"Coca-Cola Hellenic Bottling Company Armenia\" ...              NaN   \n",
              "18998  \"Coca-Cola Hellenic Bottling Company Armenia\" ...              NaN   \n",
              "18999                                  San Lazzaro   LLC              NaN   \n",
              "19000                                  \"Kamurj\" UCO CJSC              NaN   \n",
              "\n",
              "            Term                    Eligibility Audience StartDate  \\\n",
              "0            NaN                            NaN      NaN       NaN   \n",
              "1            NaN                            NaN      NaN       NaN   \n",
              "2            NaN                            NaN      NaN       NaN   \n",
              "3            NaN                            NaN      NaN       NaN   \n",
              "4            NaN                            NaN      NaN       NaN   \n",
              "...          ...                            ...      ...       ...   \n",
              "18996  Full-time                            NaN      NaN       NaN   \n",
              "18997  Full-time  All interested professionals.      NaN      ASAP   \n",
              "18998  Full-time  All interested professionals.      NaN      ASAP   \n",
              "18999        NaN                            NaN      NaN       NaN   \n",
              "19000  Full-time                            NaN      NaN       NaN   \n",
              "\n",
              "                                             Duration  ...  \\\n",
              "0                                                 NaN  ...   \n",
              "1                                            3 months  ...   \n",
              "2               Renewable annual contract\\r\\nPOSITION  ...   \n",
              "3                                                 NaN  ...   \n",
              "4                                                 NaN  ...   \n",
              "...                                               ...  ...   \n",
              "18996                                       Long-term  ...   \n",
              "18997  Long-term with a probation period of 3 months.  ...   \n",
              "18998  Long-term with a probation period of 3 months.  ...   \n",
              "18999                                       Long-term  ...   \n",
              "19000                                      Indefinite  ...   \n",
              "\n",
              "                   Salary                                       ApplicationP  \\\n",
              "0                     NaN  To apply for this position, please submit a\\r\\...   \n",
              "1                     NaN  Please submit a cover letter and resume to:\\r\\...   \n",
              "2                     NaN  Please send resume or CV toursula.kazarian@......   \n",
              "3                     NaN  Please send cover letter and resume to Amy\\r\\n...   \n",
              "4                     NaN  Successful candidates should submit\\r\\n- CV; \\...   \n",
              "...                   ...                                                ...   \n",
              "18996         Competitive  To apply for this position, please send your\\r...   \n",
              "18997                 NaN  All interested candidates are kindly requested...   \n",
              "18998                 NaN  All interested candidates are kindly requested...   \n",
              "18999  Highly competitive  Interested candidates can send their CVs to:\\r...   \n",
              "19000                 NaN  All qualified applicants are encouraged to\\r\\n...   \n",
              "\n",
              "            OpeningDate                                       Deadline Notes  \\\n",
              "0                   NaN                                26 January 2004   NaN   \n",
              "1                   NaN                                12 January 2004   NaN   \n",
              "2                   NaN  20 January 2004\\r\\nSTART DATE:  February 2004   NaN   \n",
              "3                   NaN      23 January 2004\\r\\nSTART DATE:  Immediate   NaN   \n",
              "4                   NaN                         20 January 2004, 18:00   NaN   \n",
              "...                 ...                                            ...   ...   \n",
              "18996  29 December 2015                                28 January 2016   NaN   \n",
              "18997  30 December 2015                                20 January 2016   NaN   \n",
              "18998  30 December 2015                                20 January 2016   NaN   \n",
              "18999  30 December 2015                                29 January 2016   NaN   \n",
              "19000  30 December 2015                                20 January 2016   NaN   \n",
              "\n",
              "                                                  AboutC Attach  Year Month  \\\n",
              "0                                                    NaN    NaN  2004     1   \n",
              "1      The International Research & Exchanges Board (...    NaN  2004     1   \n",
              "2      The Caucasus Environmental NGO Network is a\\r\\...    NaN  2004     1   \n",
              "3                                                    NaN    NaN  2004     1   \n",
              "4                                                    NaN    NaN  2004     1   \n",
              "...                                                  ...    ...   ...   ...   \n",
              "18996  As a company Technolinguistics has a mandate t...    NaN  2015    12   \n",
              "18997                                                NaN    NaN  2015    12   \n",
              "18998                                                NaN    NaN  2015    12   \n",
              "18999  San Lazzaro LLC works with several internation...    NaN  2015    12   \n",
              "19000  \"Kamurj\" UCO CJSC is providing micro and small...    NaN  2015    12   \n",
              "\n",
              "          IT  \n",
              "0      False  \n",
              "1      False  \n",
              "2      False  \n",
              "3      False  \n",
              "4       True  \n",
              "...      ...  \n",
              "18996  False  \n",
              "18997  False  \n",
              "18998  False  \n",
              "18999  False  \n",
              "19000  False  \n",
              "\n",
              "[19001 rows x 24 columns]"
            ],
            "text/html": [
              "\n",
              "  <div id=\"df-e47eab25-2556-4dd0-b699-1bb37801e7e2\">\n",
              "    <div class=\"colab-df-container\">\n",
              "      <div>\n",
              "<style scoped>\n",
              "    .dataframe tbody tr th:only-of-type {\n",
              "        vertical-align: middle;\n",
              "    }\n",
              "\n",
              "    .dataframe tbody tr th {\n",
              "        vertical-align: top;\n",
              "    }\n",
              "\n",
              "    .dataframe thead th {\n",
              "        text-align: right;\n",
              "    }\n",
              "</style>\n",
              "<table border=\"1\" class=\"dataframe\">\n",
              "  <thead>\n",
              "    <tr style=\"text-align: right;\">\n",
              "      <th></th>\n",
              "      <th>jobpost</th>\n",
              "      <th>date</th>\n",
              "      <th>Title</th>\n",
              "      <th>Company</th>\n",
              "      <th>AnnouncementCode</th>\n",
              "      <th>Term</th>\n",
              "      <th>Eligibility</th>\n",
              "      <th>Audience</th>\n",
              "      <th>StartDate</th>\n",
              "      <th>Duration</th>\n",
              "      <th>...</th>\n",
              "      <th>Salary</th>\n",
              "      <th>ApplicationP</th>\n",
              "      <th>OpeningDate</th>\n",
              "      <th>Deadline</th>\n",
              "      <th>Notes</th>\n",
              "      <th>AboutC</th>\n",
              "      <th>Attach</th>\n",
              "      <th>Year</th>\n",
              "      <th>Month</th>\n",
              "      <th>IT</th>\n",
              "    </tr>\n",
              "  </thead>\n",
              "  <tbody>\n",
              "    <tr>\n",
              "      <th>0</th>\n",
              "      <td>AMERIA Investment Consulting Company\\r\\nJOB TI...</td>\n",
              "      <td>Jan 5, 2004</td>\n",
              "      <td>Chief Financial Officer</td>\n",
              "      <td>AMERIA Investment Consulting Company</td>\n",
              "      <td>NaN</td>\n",
              "      <td>NaN</td>\n",
              "      <td>NaN</td>\n",
              "      <td>NaN</td>\n",
              "      <td>NaN</td>\n",
              "      <td>NaN</td>\n",
              "      <td>...</td>\n",
              "      <td>NaN</td>\n",
              "      <td>To apply for this position, please submit a\\r\\...</td>\n",
              "      <td>NaN</td>\n",
              "      <td>26 January 2004</td>\n",
              "      <td>NaN</td>\n",
              "      <td>NaN</td>\n",
              "      <td>NaN</td>\n",
              "      <td>2004</td>\n",
              "      <td>1</td>\n",
              "      <td>False</td>\n",
              "    </tr>\n",
              "    <tr>\n",
              "      <th>1</th>\n",
              "      <td>International Research &amp; Exchanges Board (IREX...</td>\n",
              "      <td>Jan 7, 2004</td>\n",
              "      <td>Full-time Community Connections Intern (paid i...</td>\n",
              "      <td>International Research &amp; Exchanges Board (IREX)</td>\n",
              "      <td>NaN</td>\n",
              "      <td>NaN</td>\n",
              "      <td>NaN</td>\n",
              "      <td>NaN</td>\n",
              "      <td>NaN</td>\n",
              "      <td>3 months</td>\n",
              "      <td>...</td>\n",
              "      <td>NaN</td>\n",
              "      <td>Please submit a cover letter and resume to:\\r\\...</td>\n",
              "      <td>NaN</td>\n",
              "      <td>12 January 2004</td>\n",
              "      <td>NaN</td>\n",
              "      <td>The International Research &amp; Exchanges Board (...</td>\n",
              "      <td>NaN</td>\n",
              "      <td>2004</td>\n",
              "      <td>1</td>\n",
              "      <td>False</td>\n",
              "    </tr>\n",
              "    <tr>\n",
              "      <th>2</th>\n",
              "      <td>Caucasus Environmental NGO Network (CENN)\\r\\nJ...</td>\n",
              "      <td>Jan 7, 2004</td>\n",
              "      <td>Country Coordinator</td>\n",
              "      <td>Caucasus Environmental NGO Network (CENN)</td>\n",
              "      <td>NaN</td>\n",
              "      <td>NaN</td>\n",
              "      <td>NaN</td>\n",
              "      <td>NaN</td>\n",
              "      <td>NaN</td>\n",
              "      <td>Renewable annual contract\\r\\nPOSITION</td>\n",
              "      <td>...</td>\n",
              "      <td>NaN</td>\n",
              "      <td>Please send resume or CV toursula.kazarian@......</td>\n",
              "      <td>NaN</td>\n",
              "      <td>20 January 2004\\r\\nSTART DATE:  February 2004</td>\n",
              "      <td>NaN</td>\n",
              "      <td>The Caucasus Environmental NGO Network is a\\r\\...</td>\n",
              "      <td>NaN</td>\n",
              "      <td>2004</td>\n",
              "      <td>1</td>\n",
              "      <td>False</td>\n",
              "    </tr>\n",
              "    <tr>\n",
              "      <th>3</th>\n",
              "      <td>Manoff Group\\r\\nJOB TITLE:  BCC Specialist\\r\\n...</td>\n",
              "      <td>Jan 7, 2004</td>\n",
              "      <td>BCC Specialist</td>\n",
              "      <td>Manoff Group</td>\n",
              "      <td>NaN</td>\n",
              "      <td>NaN</td>\n",
              "      <td>NaN</td>\n",
              "      <td>NaN</td>\n",
              "      <td>NaN</td>\n",
              "      <td>NaN</td>\n",
              "      <td>...</td>\n",
              "      <td>NaN</td>\n",
              "      <td>Please send cover letter and resume to Amy\\r\\n...</td>\n",
              "      <td>NaN</td>\n",
              "      <td>23 January 2004\\r\\nSTART DATE:  Immediate</td>\n",
              "      <td>NaN</td>\n",
              "      <td>NaN</td>\n",
              "      <td>NaN</td>\n",
              "      <td>2004</td>\n",
              "      <td>1</td>\n",
              "      <td>False</td>\n",
              "    </tr>\n",
              "    <tr>\n",
              "      <th>4</th>\n",
              "      <td>Yerevan Brandy Company\\r\\nJOB TITLE:  Software...</td>\n",
              "      <td>Jan 10, 2004</td>\n",
              "      <td>Software Developer</td>\n",
              "      <td>Yerevan Brandy Company</td>\n",
              "      <td>NaN</td>\n",
              "      <td>NaN</td>\n",
              "      <td>NaN</td>\n",
              "      <td>NaN</td>\n",
              "      <td>NaN</td>\n",
              "      <td>NaN</td>\n",
              "      <td>...</td>\n",
              "      <td>NaN</td>\n",
              "      <td>Successful candidates should submit\\r\\n- CV; \\...</td>\n",
              "      <td>NaN</td>\n",
              "      <td>20 January 2004, 18:00</td>\n",
              "      <td>NaN</td>\n",
              "      <td>NaN</td>\n",
              "      <td>NaN</td>\n",
              "      <td>2004</td>\n",
              "      <td>1</td>\n",
              "      <td>True</td>\n",
              "    </tr>\n",
              "    <tr>\n",
              "      <th>...</th>\n",
              "      <td>...</td>\n",
              "      <td>...</td>\n",
              "      <td>...</td>\n",
              "      <td>...</td>\n",
              "      <td>...</td>\n",
              "      <td>...</td>\n",
              "      <td>...</td>\n",
              "      <td>...</td>\n",
              "      <td>...</td>\n",
              "      <td>...</td>\n",
              "      <td>...</td>\n",
              "      <td>...</td>\n",
              "      <td>...</td>\n",
              "      <td>...</td>\n",
              "      <td>...</td>\n",
              "      <td>...</td>\n",
              "      <td>...</td>\n",
              "      <td>...</td>\n",
              "      <td>...</td>\n",
              "      <td>...</td>\n",
              "      <td>...</td>\n",
              "    </tr>\n",
              "    <tr>\n",
              "      <th>18996</th>\n",
              "      <td>Technolinguistics NGO\\r\\n\\r\\n\\r\\nTITLE:  Senio...</td>\n",
              "      <td>Dec 28, 2015</td>\n",
              "      <td>Senior Creative UX/ UI Designer</td>\n",
              "      <td>Technolinguistics NGO</td>\n",
              "      <td>NaN</td>\n",
              "      <td>Full-time</td>\n",
              "      <td>NaN</td>\n",
              "      <td>NaN</td>\n",
              "      <td>NaN</td>\n",
              "      <td>Long-term</td>\n",
              "      <td>...</td>\n",
              "      <td>Competitive</td>\n",
              "      <td>To apply for this position, please send your\\r...</td>\n",
              "      <td>29 December 2015</td>\n",
              "      <td>28 January 2016</td>\n",
              "      <td>NaN</td>\n",
              "      <td>As a company Technolinguistics has a mandate t...</td>\n",
              "      <td>NaN</td>\n",
              "      <td>2015</td>\n",
              "      <td>12</td>\n",
              "      <td>False</td>\n",
              "    </tr>\n",
              "    <tr>\n",
              "      <th>18997</th>\n",
              "      <td>\"Coca-Cola Hellenic Bottling Company Armenia\" ...</td>\n",
              "      <td>Dec 30, 2015</td>\n",
              "      <td>Category Development Manager</td>\n",
              "      <td>\"Coca-Cola Hellenic Bottling Company Armenia\" ...</td>\n",
              "      <td>NaN</td>\n",
              "      <td>Full-time</td>\n",
              "      <td>All interested professionals.</td>\n",
              "      <td>NaN</td>\n",
              "      <td>ASAP</td>\n",
              "      <td>Long-term with a probation period of 3 months.</td>\n",
              "      <td>...</td>\n",
              "      <td>NaN</td>\n",
              "      <td>All interested candidates are kindly requested...</td>\n",
              "      <td>30 December 2015</td>\n",
              "      <td>20 January 2016</td>\n",
              "      <td>NaN</td>\n",
              "      <td>NaN</td>\n",
              "      <td>NaN</td>\n",
              "      <td>2015</td>\n",
              "      <td>12</td>\n",
              "      <td>False</td>\n",
              "    </tr>\n",
              "    <tr>\n",
              "      <th>18998</th>\n",
              "      <td>\"Coca-Cola Hellenic Bottling Company Armenia\" ...</td>\n",
              "      <td>Dec 30, 2015</td>\n",
              "      <td>Operational Marketing Manager</td>\n",
              "      <td>\"Coca-Cola Hellenic Bottling Company Armenia\" ...</td>\n",
              "      <td>NaN</td>\n",
              "      <td>Full-time</td>\n",
              "      <td>All interested professionals.</td>\n",
              "      <td>NaN</td>\n",
              "      <td>ASAP</td>\n",
              "      <td>Long-term with a probation period of 3 months.</td>\n",
              "      <td>...</td>\n",
              "      <td>NaN</td>\n",
              "      <td>All interested candidates are kindly requested...</td>\n",
              "      <td>30 December 2015</td>\n",
              "      <td>20 January 2016</td>\n",
              "      <td>NaN</td>\n",
              "      <td>NaN</td>\n",
              "      <td>NaN</td>\n",
              "      <td>2015</td>\n",
              "      <td>12</td>\n",
              "      <td>False</td>\n",
              "    </tr>\n",
              "    <tr>\n",
              "      <th>18999</th>\n",
              "      <td>San Lazzaro   LLC\\r\\n\\r\\n\\r\\nTITLE:  Head of O...</td>\n",
              "      <td>Dec 30, 2015</td>\n",
              "      <td>Head of Online Sales Department</td>\n",
              "      <td>San Lazzaro   LLC</td>\n",
              "      <td>NaN</td>\n",
              "      <td>NaN</td>\n",
              "      <td>NaN</td>\n",
              "      <td>NaN</td>\n",
              "      <td>NaN</td>\n",
              "      <td>Long-term</td>\n",
              "      <td>...</td>\n",
              "      <td>Highly competitive</td>\n",
              "      <td>Interested candidates can send their CVs to:\\r...</td>\n",
              "      <td>30 December 2015</td>\n",
              "      <td>29 January 2016</td>\n",
              "      <td>NaN</td>\n",
              "      <td>San Lazzaro LLC works with several internation...</td>\n",
              "      <td>NaN</td>\n",
              "      <td>2015</td>\n",
              "      <td>12</td>\n",
              "      <td>False</td>\n",
              "    </tr>\n",
              "    <tr>\n",
              "      <th>19000</th>\n",
              "      <td>\"Kamurj\" UCO CJSC\\r\\n\\r\\n\\r\\nTITLE:  Lawyer in...</td>\n",
              "      <td>Dec 30, 2015</td>\n",
              "      <td>Lawyer in Legal Department</td>\n",
              "      <td>\"Kamurj\" UCO CJSC</td>\n",
              "      <td>NaN</td>\n",
              "      <td>Full-time</td>\n",
              "      <td>NaN</td>\n",
              "      <td>NaN</td>\n",
              "      <td>NaN</td>\n",
              "      <td>Indefinite</td>\n",
              "      <td>...</td>\n",
              "      <td>NaN</td>\n",
              "      <td>All qualified applicants are encouraged to\\r\\n...</td>\n",
              "      <td>30 December 2015</td>\n",
              "      <td>20 January 2016</td>\n",
              "      <td>NaN</td>\n",
              "      <td>\"Kamurj\" UCO CJSC is providing micro and small...</td>\n",
              "      <td>NaN</td>\n",
              "      <td>2015</td>\n",
              "      <td>12</td>\n",
              "      <td>False</td>\n",
              "    </tr>\n",
              "  </tbody>\n",
              "</table>\n",
              "<p>19001 rows × 24 columns</p>\n",
              "</div>\n",
              "      <button class=\"colab-df-convert\" onclick=\"convertToInteractive('df-e47eab25-2556-4dd0-b699-1bb37801e7e2')\"\n",
              "              title=\"Convert this dataframe to an interactive table.\"\n",
              "              style=\"display:none;\">\n",
              "        \n",
              "  <svg xmlns=\"http://www.w3.org/2000/svg\" height=\"24px\"viewBox=\"0 0 24 24\"\n",
              "       width=\"24px\">\n",
              "    <path d=\"M0 0h24v24H0V0z\" fill=\"none\"/>\n",
              "    <path d=\"M18.56 5.44l.94 2.06.94-2.06 2.06-.94-2.06-.94-.94-2.06-.94 2.06-2.06.94zm-11 1L8.5 8.5l.94-2.06 2.06-.94-2.06-.94L8.5 2.5l-.94 2.06-2.06.94zm10 10l.94 2.06.94-2.06 2.06-.94-2.06-.94-.94-2.06-.94 2.06-2.06.94z\"/><path d=\"M17.41 7.96l-1.37-1.37c-.4-.4-.92-.59-1.43-.59-.52 0-1.04.2-1.43.59L10.3 9.45l-7.72 7.72c-.78.78-.78 2.05 0 2.83L4 21.41c.39.39.9.59 1.41.59.51 0 1.02-.2 1.41-.59l7.78-7.78 2.81-2.81c.8-.78.8-2.07 0-2.86zM5.41 20L4 18.59l7.72-7.72 1.47 1.35L5.41 20z\"/>\n",
              "  </svg>\n",
              "      </button>\n",
              "      \n",
              "  <style>\n",
              "    .colab-df-container {\n",
              "      display:flex;\n",
              "      flex-wrap:wrap;\n",
              "      gap: 12px;\n",
              "    }\n",
              "\n",
              "    .colab-df-convert {\n",
              "      background-color: #E8F0FE;\n",
              "      border: none;\n",
              "      border-radius: 50%;\n",
              "      cursor: pointer;\n",
              "      display: none;\n",
              "      fill: #1967D2;\n",
              "      height: 32px;\n",
              "      padding: 0 0 0 0;\n",
              "      width: 32px;\n",
              "    }\n",
              "\n",
              "    .colab-df-convert:hover {\n",
              "      background-color: #E2EBFA;\n",
              "      box-shadow: 0px 1px 2px rgba(60, 64, 67, 0.3), 0px 1px 3px 1px rgba(60, 64, 67, 0.15);\n",
              "      fill: #174EA6;\n",
              "    }\n",
              "\n",
              "    [theme=dark] .colab-df-convert {\n",
              "      background-color: #3B4455;\n",
              "      fill: #D2E3FC;\n",
              "    }\n",
              "\n",
              "    [theme=dark] .colab-df-convert:hover {\n",
              "      background-color: #434B5C;\n",
              "      box-shadow: 0px 1px 3px 1px rgba(0, 0, 0, 0.15);\n",
              "      filter: drop-shadow(0px 1px 2px rgba(0, 0, 0, 0.3));\n",
              "      fill: #FFFFFF;\n",
              "    }\n",
              "  </style>\n",
              "\n",
              "      <script>\n",
              "        const buttonEl =\n",
              "          document.querySelector('#df-e47eab25-2556-4dd0-b699-1bb37801e7e2 button.colab-df-convert');\n",
              "        buttonEl.style.display =\n",
              "          google.colab.kernel.accessAllowed ? 'block' : 'none';\n",
              "\n",
              "        async function convertToInteractive(key) {\n",
              "          const element = document.querySelector('#df-e47eab25-2556-4dd0-b699-1bb37801e7e2');\n",
              "          const dataTable =\n",
              "            await google.colab.kernel.invokeFunction('convertToInteractive',\n",
              "                                                     [key], {});\n",
              "          if (!dataTable) return;\n",
              "\n",
              "          const docLinkHtml = 'Like what you see? Visit the ' +\n",
              "            '<a target=\"_blank\" href=https://colab.research.google.com/notebooks/data_table.ipynb>data table notebook</a>'\n",
              "            + ' to learn more about interactive tables.';\n",
              "          element.innerHTML = '';\n",
              "          dataTable['output_type'] = 'display_data';\n",
              "          await google.colab.output.renderOutput(dataTable, element);\n",
              "          const docLink = document.createElement('div');\n",
              "          docLink.innerHTML = docLinkHtml;\n",
              "          element.appendChild(docLink);\n",
              "        }\n",
              "      </script>\n",
              "    </div>\n",
              "  </div>\n",
              "  "
            ]
          },
          "metadata": {},
          "execution_count": 21
        }
      ]
    },
    {
      "cell_type": "code",
      "source": [
        "df.shape"
      ],
      "metadata": {
        "colab": {
          "base_uri": "https://localhost:8080/"
        },
        "id": "rjjEqm5Wo2gC",
        "outputId": "f9a192e3-741a-43f9-d8c5-5bf9d3ccd726"
      },
      "execution_count": 22,
      "outputs": [
        {
          "output_type": "execute_result",
          "data": {
            "text/plain": [
              "(19001, 24)"
            ]
          },
          "metadata": {},
          "execution_count": 22
        }
      ]
    },
    {
      "cell_type": "markdown",
      "source": [
        "#Data preprocessing"
      ],
      "metadata": {
        "id": "yLiVFdowrGon"
      }
    },
    {
      "cell_type": "code",
      "source": [
        "df = df.head(5000)\n",
        "df.shape"
      ],
      "metadata": {
        "colab": {
          "base_uri": "https://localhost:8080/"
        },
        "id": "oXYwAApjrGea",
        "outputId": "5950d2d0-9f35-453d-a58b-273afe2d7c70"
      },
      "execution_count": 28,
      "outputs": [
        {
          "output_type": "execute_result",
          "data": {
            "text/plain": [
              "(5000, 24)"
            ]
          },
          "metadata": {},
          "execution_count": 28
        }
      ]
    },
    {
      "cell_type": "code",
      "source": [
        "#Drop rows where at least one element is missing\n",
        "df_1 = df.dropna()\n",
        "df_1.shape"
      ],
      "metadata": {
        "colab": {
          "base_uri": "https://localhost:8080/"
        },
        "id": "DD3FfN1ir02p",
        "outputId": "d4b140db-3609-4f69-bf85-3f0e7b9611ad"
      },
      "execution_count": 37,
      "outputs": [
        {
          "output_type": "execute_result",
          "data": {
            "text/plain": [
              "(0, 24)"
            ]
          },
          "metadata": {},
          "execution_count": 37
        }
      ]
    },
    {
      "cell_type": "code",
      "source": [
        "#Drop only rows where all elements are missing.\n",
        "df_2 = df.dropna(how=\"all\")\n",
        "df_2.shape"
      ],
      "metadata": {
        "colab": {
          "base_uri": "https://localhost:8080/"
        },
        "id": "qWc0vEzosQUI",
        "outputId": "7831a537-14e5-44ed-a77b-f90711fd555b"
      },
      "execution_count": 39,
      "outputs": [
        {
          "output_type": "execute_result",
          "data": {
            "text/plain": [
              "(5000, 24)"
            ]
          },
          "metadata": {},
          "execution_count": 39
        }
      ]
    },
    {
      "cell_type": "markdown",
      "source": [
        "#Create tokens"
      ],
      "metadata": {
        "id": "CqFOAqCaqfGz"
      }
    },
    {
      "cell_type": "code",
      "source": [
        "#Class to convert sentences into token\n",
        "\n",
        "class Tokenizer(object):\n",
        "    def __init__(self):\n",
        "        self.model = SentenceTransformer('all-MiniLM-L6-v2')\n",
        "\n",
        "    def get_token(self, documents):\n",
        "        sentences  = [documents]\n",
        "        sentence_embeddings = self.model.encode(sentences)\n",
        "        encod_np_array = np.array(sentence_embeddings)\n",
        "        encod_list = encod_np_array.tolist()\n",
        "        return encod_list[0]"
      ],
      "metadata": {
        "id": "PZLli3b-pP9W"
      },
      "execution_count": 24,
      "outputs": []
    },
    {
      "cell_type": "code",
      "source": [
        "token_instance = Tokenizer()"
      ],
      "metadata": {
        "id": "wq5cQ6Ayqk-B"
      },
      "execution_count": 43,
      "outputs": []
    },
    {
      "cell_type": "code",
      "source": [
        "df['vector'] = df['jobpost'].progress_apply(token_instance.get_token)"
      ],
      "metadata": {
        "colab": {
          "base_uri": "https://localhost:8080/",
          "height": 153,
          "referenced_widgets": [
            "9d22c3f6d9b94c4cb607fb25fc0ba67a",
            "4bf5f30af76641a9af74de5e21dc1a3b",
            "60c37240f954407da5c7f640abfc7022",
            "9a24e72b65334c14b1274f4f3137d6f4",
            "f72161f811ef4507ba4fd8699e57d9b6",
            "e57fb2068cff4f6cae930be586c42e98",
            "30c3f7b0b97d419d877f77150df49972",
            "08061d956daa480a9d1e7bed4671724a",
            "00acf789ddd7480a8be175f6edda2474",
            "2c1eb9337d4842ab9037ed7957e46297",
            "41114a2b831d4f69b7b908c50268cede"
          ]
        },
        "id": "QhKbJtPnqwE0",
        "outputId": "7bfa2d6a-1128-4afa-f0c9-05b438f25fe2"
      },
      "execution_count": 44,
      "outputs": [
        {
          "data": {
            "application/vnd.jupyter.widget-view+json": {
              "model_id": "9d22c3f6d9b94c4cb607fb25fc0ba67a",
              "version_major": 2,
              "version_minor": 0
            },
            "text/plain": [
              "  0%|          | 0/5000 [00:00<?, ?it/s]"
            ]
          },
          "metadata": {},
          "output_type": "display_data"
        },
        {
          "output_type": "stream",
          "name": "stderr",
          "text": [
            "/usr/local/lib/python3.7/dist-packages/ipykernel_launcher.py:1: SettingWithCopyWarning: \n",
            "A value is trying to be set on a copy of a slice from a DataFrame.\n",
            "Try using .loc[row_indexer,col_indexer] = value instead\n",
            "\n",
            "See the caveats in the documentation: https://pandas.pydata.org/pandas-docs/stable/user_guide/indexing.html#returning-a-view-versus-a-copy\n",
            "  \"\"\"Entry point for launching an IPython kernel.\n"
          ]
        }
      ]
    },
    {
      "cell_type": "code",
      "source": [
        "PUT posting \n",
        "{\n",
        "   \"settings\":{\n",
        "      \"index\":{\n",
        "         \"number_of_shards\":1,\n",
        "         \"number_of_replicas\":0,\n",
        "         \"knn\":{\n",
        "            \"algo_param\":{\n",
        "               \"ef_search\":40,\n",
        "               \"ef_construction\":40,\n",
        "               \"m\":\"4\"\n",
        "            }\n",
        "         }\n",
        "      },\n",
        "      \"knn\":true\n",
        "   },\n",
        "   \"mappings\":{\n",
        "      \"properties\":{\n",
        "         \"vector\":{\n",
        "            \"type\":\"knn_vector\",\n",
        "            \"dimension\":384\n",
        "         },\n",
        "         \"title\":{\n",
        "            \"type\":\"text\",\n",
        "            \"fields\":{\n",
        "               \"keyword\":{\n",
        "                  \"type\":\"keyword\",\n",
        "                   \"index\":false\n",
        "               }\n",
        "            }\n",
        "         },\n",
        "         \"company\":{\n",
        "            \"type\":\"keyword\",\n",
        "            \"index\":false\n",
        "         },\n",
        "         \"location\":{\n",
        "            \"type\":\"keyword\",\n",
        "            \"index\":false\n",
        "         },\n",
        "         \"salary\":{\n",
        "            \"type\":\"keyword\",\n",
        "            \"index\":false\n",
        "         },\n",
        "         \"job_description\":{\n",
        "            \"type\":\"keyword\",\n",
        "            \"index\":false\n",
        "         }\n",
        "      }\n",
        "   }\n",
        "}"
      ],
      "metadata": {
        "colab": {
          "base_uri": "https://localhost:8080/",
          "height": 131
        },
        "id": "slohTy-YwAgi",
        "outputId": "f710c651-0098-4caa-c2af-d85d1d5ef6a2"
      },
      "execution_count": 45,
      "outputs": [
        {
          "output_type": "error",
          "ename": "SyntaxError",
          "evalue": "ignored",
          "traceback": [
            "\u001b[0;36m  File \u001b[0;32m\"<ipython-input-45-a0057c4bdf5b>\"\u001b[0;36m, line \u001b[0;32m1\u001b[0m\n\u001b[0;31m    PUT posting\u001b[0m\n\u001b[0m              ^\u001b[0m\n\u001b[0;31mSyntaxError\u001b[0m\u001b[0;31m:\u001b[0m invalid syntax\n"
          ]
        }
      ]
    },
    {
      "cell_type": "code",
      "source": [
        "PUT posting1 \n",
        "{\n",
        "   \"settings\":{\n",
        "      \"index\":{\n",
        "         \"number_of_shards\":20,\n",
        "         \"number_of_replicas\":1,\n",
        "         \"knn\":{\n",
        "            \"algo_param\":{\n",
        "               \"ef_search\":40,\n",
        "               \"ef_construction\":40,\n",
        "               \"m\":\"4\"\n",
        "            }\n",
        "         }\n",
        "      },\n",
        "      \"knn\":true\n",
        "   },\n",
        "   \"mappings\":{\n",
        "      \"properties\":{\n",
        "         \"vector\":{\n",
        "            \"type\":\"knn_vector\",\n",
        "            \"dimension\":384\n",
        "         }\n",
        "      }\n",
        "   }\n",
        "}"
      ],
      "metadata": {
        "colab": {
          "base_uri": "https://localhost:8080/",
          "height": 131
        },
        "id": "yW_0vOkBw2Xr",
        "outputId": "41e15c67-f489-4b0c-cd67-b1fc40527374"
      },
      "execution_count": 46,
      "outputs": [
        {
          "output_type": "error",
          "ename": "SyntaxError",
          "evalue": "ignored",
          "traceback": [
            "\u001b[0;36m  File \u001b[0;32m\"<ipython-input-46-6208aa5b57f9>\"\u001b[0;36m, line \u001b[0;32m1\u001b[0m\n\u001b[0;31m    PUT posting1\u001b[0m\n\u001b[0m               ^\u001b[0m\n\u001b[0;31mSyntaxError\u001b[0m\u001b[0;31m:\u001b[0m invalid syntax\n"
          ]
        }
      ]
    },
    {
      "cell_type": "code",
      "source": [
        "elk_data = df.to_dict(\"records\")"
      ],
      "metadata": {
        "id": "QL4Noka7w6ZZ"
      },
      "execution_count": null,
      "outputs": []
    },
    {
      "cell_type": "code",
      "source": [
        "es = Elasticsearch(hosts=[ENDPOINT],  http_auth=(USERNAME, PASSWORD))\n",
        "es.ping()"
      ],
      "metadata": {
        "id": "AwDjpu6nykAZ"
      },
      "execution_count": null,
      "outputs": []
    },
    {
      "cell_type": "code",
      "source": [
        "for x in elk_data:\n",
        "    try:\n",
        "        _={\n",
        "           \"title\":x.get(\"Title\", \"\"),\n",
        "            \"company\":x.get(\"Company\", \"\"),\n",
        "            \"location\":x.get(\"Location\", \"\"),\n",
        "            \"salary\":x.get(\"Salary\", \"\"),\n",
        "            \"vector\":x.get(\"vector\", \"\"),\n",
        "            \"job_description\":x.get(\"JobDescription\", \"\"),\n",
        "\n",
        "        }\n",
        "        es.index(index='posting1',body=_)\n",
        "    except Exception as e:pass"
      ],
      "metadata": {
        "id": "m7ajswDAyluJ"
      },
      "execution_count": null,
      "outputs": []
    }
  ]
}